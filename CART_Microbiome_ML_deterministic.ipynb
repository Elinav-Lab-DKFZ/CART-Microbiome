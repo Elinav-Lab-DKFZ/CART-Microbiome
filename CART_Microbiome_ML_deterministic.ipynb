{
 "cells": [
  {
   "cell_type": "code",
   "execution_count": 1,
   "metadata": {},
   "outputs": [],
   "source": [
    "import pandas as pd \n",
    "import numpy as np\n",
    "\n",
    "from sklearn.base import  BaseEstimator, TransformerMixin\n",
    "from sklearn.pipeline import Pipeline, FeatureUnion\n",
    "from sklearn.preprocessing import Normalizer, FunctionTransformer, StandardScaler, LabelBinarizer, FunctionTransformer, MinMaxScaler\n",
    "from sklearn.decomposition import PCA, KernelPCA, SparsePCA\n",
    "from sklearn.cross_decomposition import PLSRegression\n",
    "\n",
    "from sklearn.linear_model import LogisticRegression\n",
    "from sklearn.metrics import classification_report, roc_curve, auc, roc_auc_score, confusion_matrix\n",
    "from sklearn.model_selection import GridSearchCV, train_test_split, StratifiedKFold, KFold\n",
    "from sklearn.metrics import plot_roc_curve\n",
    "from sklearn.neural_network import MLPClassifier\n",
    "from sklearn.ensemble import RandomForestClassifier, GradientBoostingClassifier\n",
    "\n",
    "\n",
    "from itertools import  product\n",
    "from scipy.linalg import LinAlgError\n",
    "\n",
    "import scipy\n",
    "from scipy.stats import f_oneway, ttest_ind\n",
    "\n",
    "import matplotlib.pyplot as plt\n",
    "import seaborn as sns; sns.set_style(\"ticks\")\n",
    "\n",
    "data_path = \"./CART_tables_25Nov2022/\"\n",
    "\n",
    "%matplotlib inline"
   ]
  },
  {
   "cell_type": "markdown",
   "metadata": {},
   "source": [
    "# ML utils"
   ]
  },
  {
   "cell_type": "code",
   "execution_count": 216,
   "metadata": {},
   "outputs": [],
   "source": [
    "class ColumnsIdentifier(BaseEstimator, TransformerMixin):\n",
    "    def __init__(self, columns_lst):\n",
    "        self.columns_lst = columns_lst\n",
    "        \n",
    "    def fit(self, X, y = None):\n",
    "        return self\n",
    "    \n",
    "    def transform(self, X, y = None):\n",
    "        Xt = X.copy()\n",
    "        Xt = Xt.loc[:,self.columns_lst]\n",
    "        return Xt\n",
    "    \n",
    "class RAFilter(BaseEstimator, TransformerMixin):\n",
    "    def __init__(self, capval = 5e-2):\n",
    "        self._f_list = []\n",
    "        self.capval = capval\n",
    "        pass\n",
    "\n",
    "    def fit(self, X,y=None, modemap = []):\n",
    "        X_t = X.copy()\n",
    "        X_t = 100 * X_t.div(X_t.sum(axis=1), axis=0)\n",
    "        self._f_list = [i for i in range(X_t.shape[1]) if X_t.iloc[:,i].max() > self.capval ]\n",
    "        return self\n",
    "    \n",
    "    def transform(self, X, y = None):\n",
    "        X_t = X.iloc[:,self._f_list].copy()\n",
    "        X_t[X_t < self.capval] = self.capval\n",
    "        X_t = 100 * X_t / X_t.values.sum(axis=1,keepdims = True)\n",
    "        return X_t\n",
    "\n",
    "\n",
    "    def fit_transform(self, X, y = None, modemap = []):\n",
    "        self = self.fit(X, y, modemap)\n",
    "        Xt = self.transform(X, y)\n",
    "        return Xt\n",
    "    \n",
    "class PLSRegressionWrapper(PLSRegression):\n",
    "\n",
    "    def transform(self, X):\n",
    "        return super().transform(X)\n",
    "\n",
    "    def fit_transform(self, X, Y):\n",
    "        return self.fit(X,Y).transform(X)\n",
    "    \n",
    "    \n",
    "def clinical_pipeline_gs(clinical_colnames):\n",
    "    return Pipeline([(\"fset\", ColumnsIdentifier(clinical_colnames)),\n",
    "                     ('log',FunctionTransformer(lambda x: np.log10(1 + x))),\n",
    "                     ('SS',StandardScaler(with_std=False))\n",
    "                    ])\n",
    "\n",
    "def taxa_pipeline_gs(taxa_colnames):\n",
    "    return Pipeline([(\"fset\", ColumnsIdentifier(taxa_colnames)),\n",
    "                     ('raf', RAFilter()),\n",
    "                     ('log',FunctionTransformer(lambda x: np.log10(1 + x))),\n",
    "                     ('SS', StandardScaler(with_std=False))\n",
    "                    ])\n",
    "\n",
    "\n",
    "param_grid_clf = {\n",
    "    'clf__C': np.linspace(5e-2,2e-0, 5),\n",
    "    'clf__l1_ratio':np.logspace(-1,0,5),\n",
    "    \"funion__taxa__raf__capval\": np.linspace(1e-3,1e-2, 5),\n",
    "}"
   ]
  },
  {
   "cell_type": "markdown",
   "metadata": {},
   "source": [
    "# All subjects\n"
   ]
  },
  {
   "cell_type": "markdown",
   "metadata": {},
   "source": [
    "## Read data\n",
    "\n",
    "- Sub-setting the samples based on: \"-21 <= sampleDay_sample\" < 1 \n",
    "- Target features to predict:\n",
    "   * CR at day 180 (indicated in the \"CART_table_response.xlsx\" table)\n",
    "   * Survival (or \"dead\") at day 180 (indicated in the \"CART_table_response.xlsx\" table)\n",
    "   * Early progression (\"Progression_early\" indicated in the \"CART_table_patients.xlsx\" table)"
   ]
  },
  {
   "cell_type": "code",
   "execution_count": 256,
   "metadata": {},
   "outputs": [],
   "source": [
    "# reading and subsetting patients list\n",
    "stool_table_habx = pd.read_excel(f\"{data_path}/CART_table_stool.xlsx\"\n",
    "                               , engine='openpyxl')\\\n",
    "                                .query(\"sampleDay_sample < 1\")\\\n",
    "                                .query(\"sampleDay_sample >= -21\")\n",
    "#                                 .query(\"Basal_no_HighRisk_sample == True\")\n",
    "\n",
    "subs = # Here is given a set indicating patients to be excluded in accordance with the exclusion criteria  # \n",
    "\n",
    "_sid_subset_habx = stool_table_habx['subjectID'].unique()\n",
    "_sid_subset_habx = [s for s in _sid_subset_habx if s not in subs]\n",
    "\n",
    "\n",
    "patients_table_habx = pd.read_excel(f\"{data_path}/CART_table_patients.xlsx\"\n",
    "                               , engine='openpyxl')\\\n",
    "                                .query(f\"subjectID in @_sid_subset_habx\")\n",
    "                                \n",
    "\n",
    "response_table_habx = pd.read_excel(f\"{data_path}/CART_table_response.xlsx\"\n",
    "                               , engine='openpyxl')\\\n",
    "                                .query('Day == 180')\\\n",
    "                                .query('subjectID in @_sid_subset_habx')\\\n",
    "                                .dropna(subset = ['Response'])\n",
    "\n",
    "patients_table_habx = patients_table_habx.loc[patients_table_habx['subjectID'].isin(response_table_habx['subjectID'])]\n",
    "response_table_habx = response_table_habx.loc[response_table_habx['subjectID'].isin(patients_table_habx['subjectID'])]\n",
    "stool_table_habx = stool_table_habx.loc[stool_table_habx['subjectID'].isin(patients_table_habx['subjectID'])]\n",
    "\n",
    "\n",
    "taxa_table_habx = stool_table_habx.loc[:,['subjectID','stool_sample_id']].merge(pd.read_excel(f\"{data_path}/CART_table_taxa.xlsx\", engine='openpyxl'), how = 'left')\\\n",
    "                    .groupby(['subjectID']).apply(lambda x:x.iloc[:,1:].mean())\n",
    "\n",
    "\n",
    "\n",
    "stool_table_habx = stool_table_habx.loc[stool_table_habx['subjectID'].isin(taxa_table_habx.index)]\n",
    "patients_table_habx = patients_table_habx.loc[patients_table_habx['subjectID'].isin(taxa_table_habx.index)]\n",
    "\n",
    "_sid_subset_habx = stool_table_habx['subjectID'].unique()\n",
    "_sid_subset_habx = [s for s in _sid_subset_habx if s not in subs]\n",
    "\n",
    "patients_table_habx = patients_table_habx.query(f\"subjectID in @_sid_subset_habx\")\n",
    "\n",
    "taxa_table_habx = taxa_table_habx.loc[patients_table_habx['subjectID']]"
   ]
  },
  {
   "cell_type": "markdown",
   "metadata": {},
   "source": [
    "## Summarize metadata for reporting"
   ]
  },
  {
   "cell_type": "code",
   "execution_count": 257,
   "metadata": {},
   "outputs": [],
   "source": [
    "meta_stats = patients_table_habx.set_index('subjectID').loc[:,['Country']]\\\n",
    "                .join(stool_table_habx.loc[:,['Basal_no_HighRisk_sample','subjectID']].drop_duplicates().set_index('subjectID'))\\\n",
    "                .join(response_table_habx.assign(CR180 = lambda df: df['Response'].apply(lambda x: 'CR' if x =='CR' else 'noCR'))\\\n",
    "                        .loc[:,['subjectID','CR180']].set_index('subjectID').sort_index())\n",
    "\n",
    "\n",
    "\n",
    "country_stats = meta_stats.groupby(['Country']).size().rename('n_subjects_per_country').reset_index()\n",
    "\n",
    "\n",
    "country_abx_stats = meta_stats.groupby(['Country','Basal_no_HighRisk_sample']).size().rename('n_subjects_per_risk').reset_index()\n",
    "\n",
    "\n",
    "\n",
    "country_abx_cr_stats = meta_stats.groupby(['Country','Basal_no_HighRisk_sample','CR180']).size().rename('n_subjects_per_response').reset_index()\n",
    "\n",
    "\n",
    "stats_indcol = ['Country','n_subjects_per_country','Basal_no_HighRisk_sample','n_subjects_per_risk','CR180','n_subjects_per_response','subjectID']\n",
    "\n",
    "stats_disp = country_stats.merge(country_abx_stats).merge(country_abx_cr_stats).merge(meta_stats.reset_index()).set_index(stats_indcol).sort_index()\n",
    "\n",
    "stats_disp.to_excel(\"CR180_all_subjects_excluding_6patients_stats.xlsx\")\n"
   ]
  },
  {
   "cell_type": "markdown",
   "metadata": {},
   "source": [
    "## Test - train split"
   ]
  },
  {
   "cell_type": "code",
   "execution_count": 258,
   "metadata": {},
   "outputs": [],
   "source": [
    "train_patients_habx = patients_table_habx.query('Country == \"Germany\"')['subjectID'].unique().tolist()\n",
    "test_patients_habx = patients_table_habx.query('Country == \"US\"')['subjectID'].unique().tolist()"
   ]
  },
  {
   "cell_type": "markdown",
   "metadata": {},
   "source": [
    "## Set X (input) and y (response)"
   ]
  },
  {
   "cell_type": "code",
   "execution_count": 259,
   "metadata": {},
   "outputs": [],
   "source": [
    "# X\n",
    "patients_x_habx = patients_table_habx.set_index(['subjectID']).loc[:,['Gender','Age']]\n",
    "patients_x_habx['gender_m'] = 1*(patients_x_habx['Gender'] == 'm')\n",
    "patients_x_habx['gender_f'] = 1*(patients_x_habx['Gender'] == 'f')\n",
    "patients_x_habx.drop('Gender', axis=1,inplace = True)\n",
    "\n",
    "X_all_habx = pd.concat([taxa_table_habx, patients_x_habx], axis=1)\n",
    "X_atrain_habx, X_atest_habx = X_all_habx.loc[train_patients_habx].copy(), X_all_habx.loc[test_patients_habx].copy()\n",
    "\n",
    "taxa_cols_habx = taxa_table_habx.columns.tolist()\n",
    "clinical_cols_habx = patients_x_habx.columns.tolist()\n",
    "\n",
    "\n",
    "# y\n",
    "cr_y_habx = 1 * (response_table_habx.set_index('subjectID')['Response'] == 'CR').loc[X_all_habx.index]\n",
    "cr_y_train_habx, cr_y_test_habx = cr_y_habx.loc[train_patients_habx].copy(), cr_y_habx.loc[test_patients_habx].copy()"
   ]
  },
  {
   "cell_type": "markdown",
   "metadata": {},
   "source": [
    "## Train"
   ]
  },
  {
   "cell_type": "markdown",
   "metadata": {},
   "source": [
    "### Initial CV for best hyperparameters"
   ]
  },
  {
   "cell_type": "code",
   "execution_count": 260,
   "metadata": {},
   "outputs": [
    {
     "name": "stdout",
     "output_type": "stream",
     "text": [
      "Fitting 5 folds for each of 125 candidates, totalling 625 fits\n",
      "0.6356666666666667\n",
      "{'clf__C': 2.0, 'clf__l1_ratio': 0.1, 'funion__taxa__raf__capval': 0.001}\n"
     ]
    }
   ],
   "source": [
    "feature_extractors = []\n",
    "\n",
    "\n",
    "\n",
    "feature_extractors.append(('clinical', clinical_pipeline_gs(clinical_cols_habx)))\n",
    "\n",
    "\n",
    "\n",
    "feature_extractors.append((f\"taxa\", taxa_pipeline_gs(taxa_cols_habx)))\n",
    "\n",
    "\n",
    "union = FeatureUnion(feature_extractors, n_jobs=None)\n",
    "\n",
    "\n",
    "clf_pipe = Pipeline([\n",
    "    ('funion', union),\n",
    "    ('clf', LogisticRegression(penalty='elasticnet',max_iter=500, fit_intercept=True, solver='saga'))\n",
    "])\n",
    "\n",
    "\n",
    "\n",
    "\n",
    "gscv = GridSearchCV(clf_pipe, param_grid_clf, verbose=3, n_jobs=10\n",
    "                    ,scoring='roc_auc',return_train_score=True)\n",
    "gscv.fit(X_atrain_habx, cr_y_train_habx)\n",
    "\n",
    "print(gscv.best_score_)\n",
    "print(gscv.best_params_)"
   ]
  },
  {
   "cell_type": "markdown",
   "metadata": {},
   "source": [
    "### Prune inputs based on top coefficients"
   ]
  },
  {
   "cell_type": "code",
   "execution_count": 261,
   "metadata": {},
   "outputs": [
    {
     "name": "stdout",
     "output_type": "stream",
     "text": [
      "selected_taxa: 30\n",
      "selected_clinical: 0\n",
      "Bacteroides_eggerthii\n",
      "Ruminococcus_lactaris\n",
      "Bacteroides_stercoris\n",
      "Eubacterium_sp_CAG_180\n",
      "Roseburia_faecis\n",
      "Lactobacillus_amylovorus\n",
      "Bacteroides_fragilis\n",
      "Bacteroides_thetaiotaomicron\n",
      "Erysipelatoclostridium_ramosum\n",
      "Akkermansia_muciniphila\n",
      "Anaerostipes_hadrus\n",
      "Fusicatenibacter_saccharivorans\n",
      "Faecalibacterium_prausnitzii\n",
      "Eubacterium_sp_CAG_38\n",
      "Bacteroides_dorei\n",
      "Blautia_obeum\n",
      "Clostridium_innocuum\n",
      "Escherichia_coli\n",
      "Alistipes_finegoldii\n",
      "Coprococcus_comes\n",
      "Lactobacillus_gasseri\n",
      "Bacteroides_cellulosilyticus\n",
      "Ruminococcus_gnavus\n",
      "Streptococcus_salivarius\n",
      "Roseburia_inulinivorans\n",
      "Roseburia_intestinalis\n",
      "Eubacterium_eligens\n",
      "Lactobacillus_brevis\n",
      "Intestinibacter_bartlettii\n",
      "Bifidobacterium_pseudocatenulatum\n"
     ]
    },
    {
     "data": {
      "text/plain": [
       "30"
      ]
     },
     "execution_count": 261,
     "metadata": {},
     "output_type": "execute_result"
    }
   ],
   "source": [
    "best_est = gscv.best_estimator_\n",
    "fu_best = best_est['funion']\n",
    "\n",
    "\n",
    "columns_best = fu_best.transformer_list[0][-1]['fset'].columns_lst.copy()\n",
    "columns_best += [f for i,f in enumerate(fu_best.transformer_list[1][-1]['fset'].columns_lst.copy()) if i in fu_best.transformer_list[1][-1]['raf']._f_list]\n",
    "\n",
    "selected_columns_ser = pd.Series({f:c for f,c in zip(columns_best, gscv.best_estimator_['clf'].coef_[0,:])})\n",
    "selected_columns_ser.sort_values().to_csv(\"./deterministic_results/CR180_WithHighRiskABX_elasticnet_train_coefficients.csv\")\n",
    "selected_columns = (selected_columns_ser[selected_columns_ser.abs() > 0]**2).nlargest( 30 ).index.tolist()\n",
    "selected_taxa = [f for f in selected_columns if f in taxa_cols_habx]\n",
    "selected_clinical = [f for f in selected_columns if f in clinical_cols_habx]\n",
    "\n",
    "print(\"selected_taxa:\",len(selected_taxa))\n",
    "print(\"selected_clinical:\",len(selected_clinical))\n",
    "print(*selected_columns,sep=\"\\n\")\n",
    "len(selected_columns)"
   ]
  },
  {
   "cell_type": "markdown",
   "metadata": {},
   "source": [
    "### Set up model with optimal hyper params and reduced input"
   ]
  },
  {
   "cell_type": "code",
   "execution_count": 262,
   "metadata": {},
   "outputs": [],
   "source": [
    "best_taxa_raf_params = fu_best.transformer_list[1][-1]['raf'].get_params().copy()\n",
    "best_clf_params = best_est['clf'].get_params().copy()\n",
    "# best_clf_params['C'] = best_clf_params['C']*10\n",
    "\n",
    "feature_extractors2 = []\n",
    "\n",
    "if len(selected_clinical) > 0:\n",
    "    prep_clinical = clinical_pipeline_gs(selected_clinical)\n",
    "    feature_extractors2.append(('clinical', prep_clinical))\n",
    "\n",
    "\n",
    "\n",
    "prep_taxa = Pipeline([(\"fset\", ColumnsIdentifier(taxa_cols_habx)),\n",
    "                      ('raf', RAFilter(**best_taxa_raf_params)),\n",
    "                      ('fset2', ColumnsIdentifier(selected_taxa)),\n",
    "                      ('log',FunctionTransformer(lambda x: np.log10(1 + x))),\n",
    "                      ('SS', StandardScaler(with_std=False)),\n",
    "                     ])\n",
    "\n",
    "feature_extractors2.append(('taxa',prep_taxa))\n",
    "\n",
    "union2 = FeatureUnion(feature_extractors2)\n",
    "clf_pipe2 = Pipeline([\n",
    "    ('prep',union2),\n",
    "    ('clf', LogisticRegression(**best_clf_params))\n",
    "])\n"
   ]
  },
  {
   "cell_type": "markdown",
   "metadata": {},
   "source": [
    "### refit"
   ]
  },
  {
   "cell_type": "code",
   "execution_count": 263,
   "metadata": {},
   "outputs": [
    {
     "data": {
      "text/plain": [
       "Pipeline(steps=[('prep',\n",
       "                 FeatureUnion(transformer_list=[('taxa',\n",
       "                                                 Pipeline(steps=[('fset',\n",
       "                                                                  ColumnsIdentifier(columns_lst=['Methanobrevibacter_smithii',\n",
       "                                                                                                 'Methanosphaera_stadtmanae',\n",
       "                                                                                                 'Candidatus_Methanomassiliicoccus_intestinalis',\n",
       "                                                                                                 'Actinobaculum_sp_oral_taxon_183',\n",
       "                                                                                                 'Actinomyces_graevenitzii',\n",
       "                                                                                                 'Actinomyces_naeslundii',\n",
       "                                                                                                 'Actinomyces_odontolyticus',\n",
       "                                                                                                 'Actinomyces_...\n",
       "                                                                                                 'Roseburia_inulinivorans',\n",
       "                                                                                                 'Roseburia_intestinalis',\n",
       "                                                                                                 'Eubacterium_eligens',\n",
       "                                                                                                 'Lactobacillus_brevis',\n",
       "                                                                                                 'Intestinibacter_bartlettii',\n",
       "                                                                                                 'Bifidobacterium_pseudocatenulatum'])),\n",
       "                                                                 ('log',\n",
       "                                                                  FunctionTransformer(func=<function <lambda> at 0x2b131e7587b8>)),\n",
       "                                                                 ('SS',\n",
       "                                                                  StandardScaler(with_std=False))]))])),\n",
       "                ('clf',\n",
       "                 LogisticRegression(C=2.0, l1_ratio=0.1, max_iter=500,\n",
       "                                    penalty='elasticnet', solver='saga'))])"
      ]
     },
     "execution_count": 263,
     "metadata": {},
     "output_type": "execute_result"
    }
   ],
   "source": [
    "clf_pipe2.fit(X_atrain_habx, cr_y_train_habx)"
   ]
  },
  {
   "cell_type": "markdown",
   "metadata": {},
   "source": [
    "## evaluate model"
   ]
  },
  {
   "cell_type": "code",
   "execution_count": 264,
   "metadata": {
    "scrolled": true
   },
   "outputs": [
    {
     "data": {
      "image/png": "[encoded data removed]",
      "text/plain": [
       "<Figure size 432x288 with 1 Axes>"
      ]
     },
     "metadata": {
      "needs_background": "light"
     },
     "output_type": "display_data"
    },
    {
     "name": "stdout",
     "output_type": "stream",
     "text": [
      "ROC AUC: 0.638888888888889\n",
      "confusion matrix:\n",
      "[[16  8]\n",
      " [11 10]]\n"
     ]
    }
   ],
   "source": [
    "test_roc = plot_roc_curve(clf_pipe2, X_atest_habx,cr_y_test_habx  )\n",
    "plt.show()\n",
    "\n",
    "print('ROC AUC:',str(test_roc.roc_auc))\n",
    "print('confusion matrix:')\n",
    "print(confusion_matrix(cr_y_test_habx, clf_pipe2.predict(X_atest_habx)))\n",
    "\n",
    "roc_test = pd.DataFrame(dtype=np.float64)\n",
    "roc_test['FPR'] = test_roc.fpr\n",
    "roc_test['TPR'] = test_roc.tpr\n",
    "roc_test['auc'] = str(test_roc.roc_auc)\n",
    "\n",
    "habx_roc_df = pd.DataFrame([roc_test['FPR'],roc_test['TPR']]).T\n",
    "habx_roc_df.to_csv('./deterministic_results/CR180_WithHighRiskABX_elasticnet_test_roc_curve.csv', index=False)"
   ]
  },
  {
   "cell_type": "markdown",
   "metadata": {},
   "source": [
    "# No high-risk abx subjects"
   ]
  },
  {
   "cell_type": "markdown",
   "metadata": {},
   "source": [
    "## Read data\n",
    "\n",
    "- Sub-setting the samples based on two criteria: \"-21 <= sampleDay_sample\" < 1  AND \"Basal_no_HighRisk_sample\" ==  True (meaning no high-risk Abx in the last 14 days before infusion). \n",
    "- Target features to predict:\n",
    "   * CR at day 180 (indicated in the \"CART_table_response.xlsx\" table)\n",
    "   * Survival (or \"dead\") at day 180 (indicated in the \"CART_table_response.xlsx\" table)\n",
    "   * Early progression (\"Progression_early\" indicated in the \"CART_table_patients.xlsx\" table)"
   ]
  },
  {
   "cell_type": "code",
   "execution_count": 229,
   "metadata": {},
   "outputs": [],
   "source": [
    "# reading and subsetting patients list\n",
    "stool_table_nohrabx = pd.read_excel(f\"{data_path}/CART_table_stool.xlsx\"\n",
    "                               , engine='openpyxl')\\\n",
    "                                .query(\"sampleDay_sample < 1\")\\\n",
    "                                .query(\"sampleDay_sample >= -21\")\\\n",
    "                                .query(\"Basal_no_HighRisk_sample == True\")\n",
    "\n",
    "\n",
    "\n",
    "\n",
    "_sid_subset_nohrabx = stool_table_nohrabx['subjectID'].unique()\n",
    "_sid_subset_nohrabx = [s for s in _sid_subset_nohrabx if s not in subs]\n",
    "\n",
    "\n",
    "patients_table_nohrabx = pd.read_excel(f\"{data_path}/CART_table_patients.xlsx\"\n",
    "                               , engine='openpyxl')\\\n",
    "                                .query(f\"subjectID in @_sid_subset_nohrabx\")\n",
    "                                \n",
    "\n",
    "response_table_nohrabx = pd.read_excel(f\"{data_path}/CART_table_response.xlsx\"\n",
    "                               , engine='openpyxl')\\\n",
    "                                .query('Day == 180')\\\n",
    "                                .query('subjectID in @_sid_subset_nohrabx')\\\n",
    "                                .dropna(subset = ['Response'])\n",
    "\n",
    "patients_table_nohrabx = patients_table_nohrabx.loc[patients_table_nohrabx['subjectID'].isin(response_table_nohrabx['subjectID'])]\n",
    "response_table_nohrabx = response_table_nohrabx.loc[response_table_nohrabx['subjectID'].isin(patients_table_nohrabx['subjectID'])]\n",
    "stool_table_nohrabx = stool_table_nohrabx.loc[stool_table_nohrabx['subjectID'].isin(patients_table_nohrabx['subjectID'])]\n",
    "\n",
    "\n",
    "taxa_table_nohrabx = stool_table_nohrabx.loc[:,['subjectID','stool_sample_id']].merge(pd.read_excel(f\"{data_path}/CART_table_taxa.xlsx\", engine='openpyxl'), how = 'left')\\\n",
    "                    .groupby(['subjectID']).apply(lambda x:x.iloc[:,1:].mean())\n",
    "\n",
    "\n",
    "\n",
    "stool_table_nohrabx = stool_table_nohrabx.loc[stool_table_nohrabx['subjectID'].isin(taxa_table_nohrabx.index)]\n",
    "patients_table_nohrabx = patients_table_nohrabx.loc[patients_table_nohrabx['subjectID'].isin(taxa_table_nohrabx.index)]\n",
    "\n",
    "_sid_subset_nohrabx = stool_table_nohrabx['subjectID'].unique()\n",
    "_sid_subset_nohrabx = [s for s in _sid_subset_nohrabx if s not in subs]\n",
    "\n",
    "patients_table_nohrabx = patients_table_nohrabx.query(f\"subjectID in @_sid_subset_nohrabx\")\n",
    "\n",
    "taxa_table_nohrabx = taxa_table_nohrabx.loc[patients_table_nohrabx['subjectID']]"
   ]
  },
  {
   "cell_type": "markdown",
   "metadata": {},
   "source": [
    "## Test - train split"
   ]
  },
  {
   "cell_type": "code",
   "execution_count": 230,
   "metadata": {},
   "outputs": [],
   "source": [
    "train_patients_nohrabx = patients_table_nohrabx.query('Country == \"Germany\"')['subjectID'].unique().tolist()\n",
    "test_patients_nohrabx = patients_table_nohrabx.query('Country == \"US\"')['subjectID'].unique().tolist()"
   ]
  },
  {
   "cell_type": "markdown",
   "metadata": {},
   "source": [
    "## Set X (input) and y (response)"
   ]
  },
  {
   "cell_type": "code",
   "execution_count": 231,
   "metadata": {},
   "outputs": [],
   "source": [
    "# X\n",
    "patients_x_nohrabx = patients_table_nohrabx.set_index(['subjectID']).loc[:,['Gender','Age']]\n",
    "patients_x_nohrabx['gender_m'] = 1*(patients_x_nohrabx['Gender'] == 'm')\n",
    "patients_x_nohrabx['gender_f'] = 1*(patients_x_nohrabx['Gender'] == 'f')\n",
    "patients_x_nohrabx.drop('Gender', axis=1,inplace = True)\n",
    "\n",
    "X_all_nohrabx = pd.concat([taxa_table_nohrabx, patients_x_nohrabx], axis=1)\n",
    "X_atrain_nohrabx, X_atest_nohrabx = X_all_nohrabx.loc[train_patients_nohrabx].copy(), X_all_nohrabx.loc[test_patients_nohrabx].copy()\n",
    "\n",
    "taxa_cols_nohrabx = taxa_table_nohrabx.columns.tolist()\n",
    "clinical_cols_nohrabx = patients_x_nohrabx.columns.tolist()\n",
    "\n",
    "\n",
    "# y\n",
    "cr_y_nohrabx = 1 * (response_table_nohrabx.set_index('subjectID')['Response'] == 'CR').loc[X_all_nohrabx.index]\n",
    "cr_y_train_nohrabx, cr_y_test_nohrabx = cr_y_nohrabx.loc[train_patients_nohrabx].copy(), cr_y_nohrabx.loc[test_patients_nohrabx].copy()"
   ]
  },
  {
   "cell_type": "markdown",
   "metadata": {},
   "source": [
    "## Train"
   ]
  },
  {
   "cell_type": "markdown",
   "metadata": {},
   "source": [
    "### Initial CV for best hyperparameters"
   ]
  },
  {
   "cell_type": "code",
   "execution_count": 232,
   "metadata": {},
   "outputs": [
    {
     "name": "stdout",
     "output_type": "stream",
     "text": [
      "Fitting 5 folds for each of 125 candidates, totalling 625 fits\n",
      "0.6025\n",
      "{'clf__C': 1.5125, 'clf__l1_ratio': 0.1, 'funion__taxa__raf__capval': 0.001}\n"
     ]
    }
   ],
   "source": [
    "feature_extractors = []\n",
    "\n",
    "\n",
    "\n",
    "feature_extractors.append(('clinical', clinical_pipeline_gs(clinical_cols_nohrabx)))\n",
    "\n",
    "\n",
    "\n",
    "feature_extractors.append((f\"taxa\", taxa_pipeline_gs(taxa_cols_nohrabx)))\n",
    "\n",
    "\n",
    "union = FeatureUnion(feature_extractors, n_jobs=None)\n",
    "\n",
    "\n",
    "clf_pipe = Pipeline([\n",
    "    ('funion', union),\n",
    "    ('clf', LogisticRegression(penalty='elasticnet',max_iter=500, fit_intercept=True, solver='saga'))\n",
    "])\n",
    "\n",
    "\n",
    "\n",
    "\n",
    "gscv = GridSearchCV(clf_pipe, param_grid_clf, verbose=3, n_jobs=10\n",
    "                    ,scoring='roc_auc',return_train_score=True)\n",
    "gscv.fit(X_atrain_nohrabx, cr_y_train_nohrabx)\n",
    "\n",
    "print(gscv.best_score_)\n",
    "print(gscv.best_params_)"
   ]
  },
  {
   "cell_type": "markdown",
   "metadata": {},
   "source": [
    "### Prune inputs based on top coefficients"
   ]
  },
  {
   "cell_type": "code",
   "execution_count": 252,
   "metadata": {},
   "outputs": [
    {
     "name": "stdout",
     "output_type": "stream",
     "text": [
      "selected_taxa: 30\n",
      "selected_clinical: 0\n",
      "Bacteroides_stercoris\n",
      "Bacteroides_eggerthii\n",
      "Ruminococcus_lactaris\n",
      "Bacteroides_fragilis\n",
      "Roseburia_faecis\n",
      "Eubacterium_sp_CAG_180\n",
      "Eubacterium_sp_CAG_38\n",
      "Akkermansia_muciniphila\n",
      "Erysipelatoclostridium_ramosum\n",
      "Lactobacillus_amylovorus\n",
      "Fusicatenibacter_saccharivorans\n",
      "Faecalibacterium_prausnitzii\n",
      "Bacteroides_thetaiotaomicron\n",
      "Bacteroides_dorei\n",
      "Blautia_obeum\n",
      "Ruminococcus_gnavus\n",
      "Anaerostipes_hadrus\n",
      "Roseburia_inulinivorans\n",
      "Firmicutes_bacterium_CAG_145\n",
      "Alistipes_finegoldii\n",
      "Streptococcus_salivarius\n",
      "Lactobacillus_gasseri\n",
      "Bacteroides_cellulosilyticus\n",
      "Roseburia_intestinalis\n",
      "Bacteroides_uniformis\n",
      "Coprococcus_comes\n",
      "Ruminococcus_torques\n",
      "Lactobacillus_rhamnosus\n",
      "Eubacterium_eligens\n",
      "Escherichia_coli\n"
     ]
    },
    {
     "data": {
      "text/plain": [
       "30"
      ]
     },
     "execution_count": 252,
     "metadata": {},
     "output_type": "execute_result"
    }
   ],
   "source": [
    "best_est = gscv.best_estimator_\n",
    "fu_best = best_est['funion']\n",
    "\n",
    "\n",
    "columns_best = fu_best.transformer_list[0][-1]['fset'].columns_lst.copy()\n",
    "columns_best += [f for i,f in enumerate(fu_best.transformer_list[1][-1]['fset'].columns_lst.copy()) if i in fu_best.transformer_list[1][-1]['raf']._f_list]\n",
    "\n",
    "selected_columns_ser = pd.Series({f:c for f,c in zip(columns_best, gscv.best_estimator_['clf'].coef_[0,:])})\n",
    "selected_columns_ser.sort_values().to_csv(\"./deterministic_results/CR180_noHighRiskABX_elasticnet_train_coefficients.csv\")\n",
    "selected_columns = (selected_columns_ser[selected_columns_ser.abs() > 0]**2).nlargest( 30 ).index.tolist()\n",
    "selected_taxa = [f for f in selected_columns if f in taxa_cols_nohrabx]\n",
    "selected_clinical = [f for f in selected_columns if f in clinical_cols_nohrabx]\n",
    "\n",
    "print(\"selected_taxa:\",len(selected_taxa))\n",
    "print(\"selected_clinical:\",len(selected_clinical))\n",
    "print(*selected_columns,sep=\"\\n\")\n",
    "len(selected_columns)"
   ]
  },
  {
   "cell_type": "markdown",
   "metadata": {},
   "source": [
    "### Set up model with optimal hyper params and reduced input"
   ]
  },
  {
   "cell_type": "code",
   "execution_count": 253,
   "metadata": {},
   "outputs": [],
   "source": [
    "best_taxa_raf_params = fu_best.transformer_list[1][-1]['raf'].get_params().copy()\n",
    "best_clf_params = best_est['clf'].get_params().copy()\n",
    "# best_clf_params['C'] = best_clf_params['C']*2\n",
    "best_clf_params['max_iter'] = 1000\n",
    "\n",
    "feature_extractors2 = []\n",
    "\n",
    "if len(selected_clinical) > 0:\n",
    "    prep_clinical = clinical_pipeline_gs(selected_clinical)\n",
    "    feature_extractors2.append(('clinical', prep_clinical))\n",
    "\n",
    "\n",
    "\n",
    "prep_taxa = Pipeline([(\"fset\", ColumnsIdentifier(taxa_cols_nohrabx)),\n",
    "                      ('raf', RAFilter(**best_taxa_raf_params)),\n",
    "                      ('fset2', ColumnsIdentifier(selected_taxa)),\n",
    "                      ('log',FunctionTransformer(lambda x: np.log10(1 + x))),\n",
    "                      ('SS', StandardScaler(with_std=False)),\n",
    "                     ])\n",
    "\n",
    "feature_extractors2.append(('taxa',prep_taxa))\n",
    "\n",
    "union2 = FeatureUnion(feature_extractors2)\n",
    "clf_pipe2 = Pipeline([\n",
    "    ('prep',union2),\n",
    "    ('clf', LogisticRegression(**best_clf_params))\n",
    "])\n"
   ]
  },
  {
   "cell_type": "markdown",
   "metadata": {},
   "source": [
    "### refit"
   ]
  },
  {
   "cell_type": "code",
   "execution_count": 254,
   "metadata": {},
   "outputs": [
    {
     "data": {
      "text/plain": [
       "Pipeline(steps=[('prep',\n",
       "                 FeatureUnion(transformer_list=[('taxa',\n",
       "                                                 Pipeline(steps=[('fset',\n",
       "                                                                  ColumnsIdentifier(columns_lst=['Methanobrevibacter_smithii',\n",
       "                                                                                                 'Methanosphaera_stadtmanae',\n",
       "                                                                                                 'Candidatus_Methanomassiliicoccus_intestinalis',\n",
       "                                                                                                 'Actinobaculum_sp_oral_taxon_183',\n",
       "                                                                                                 'Actinomyces_graevenitzii',\n",
       "                                                                                                 'Actinomyces_naeslundii',\n",
       "                                                                                                 'Actinomyces_odontolyticus',\n",
       "                                                                                                 'Actinomyces_...\n",
       "                                                                                                 'Bacteroides_uniformis',\n",
       "                                                                                                 'Coprococcus_comes',\n",
       "                                                                                                 'Ruminococcus_torques',\n",
       "                                                                                                 'Lactobacillus_rhamnosus',\n",
       "                                                                                                 'Eubacterium_eligens',\n",
       "                                                                                                 'Escherichia_coli'])),\n",
       "                                                                 ('log',\n",
       "                                                                  FunctionTransformer(func=<function <lambda> at 0x2b131eaddb70>)),\n",
       "                                                                 ('SS',\n",
       "                                                                  StandardScaler(with_std=False))]))])),\n",
       "                ('clf',\n",
       "                 LogisticRegression(C=1.5125, l1_ratio=0.1, max_iter=1000,\n",
       "                                    penalty='elasticnet', solver='saga'))])"
      ]
     },
     "execution_count": 254,
     "metadata": {},
     "output_type": "execute_result"
    }
   ],
   "source": [
    "clf_pipe2.fit(X_atrain_nohrabx, cr_y_train_nohrabx)"
   ]
  },
  {
   "cell_type": "markdown",
   "metadata": {},
   "source": [
    "## evaluate model"
   ]
  },
  {
   "cell_type": "code",
   "execution_count": 255,
   "metadata": {
    "scrolled": true
   },
   "outputs": [
    {
     "data": {
      "image/png": "[encoded data removed]",
      "text/plain": [
       "<Figure size 432x288 with 1 Axes>"
      ]
     },
     "metadata": {
      "needs_background": "light"
     },
     "output_type": "display_data"
    },
    {
     "name": "stdout",
     "output_type": "stream",
     "text": [
      "ROC AUC: 0.6944444444444444\n",
      "confusion matrix:\n",
      "[[13  5]\n",
      " [11  7]]\n"
     ]
    }
   ],
   "source": [
    "test_roc = plot_roc_curve(clf_pipe2, X_atest_nohrabx,cr_y_test_nohrabx  )\n",
    "plt.show()\n",
    "\n",
    "print('ROC AUC:',str(test_roc.roc_auc))\n",
    "print('confusion matrix:')\n",
    "print(confusion_matrix(cr_y_test_nohrabx, clf_pipe2.predict(X_atest_nohrabx)))\n",
    "\n",
    "roc_test = pd.DataFrame(dtype=np.float64)\n",
    "roc_test['FPR'] = test_roc.fpr\n",
    "roc_test['TPR'] = test_roc.tpr\n",
    "roc_test['auc'] = str(test_roc.roc_auc)\n",
    "\n",
    "nohrabx_roc_df = pd.DataFrame([roc_test['FPR'],roc_test['TPR']]).T\n",
    "nohrabx_roc_df.to_csv('./deterministic_results/CR180_noHighRiskABX_elasticnet_test_roc_curve.csv', index=False)"
   ]
  },
  {
   "cell_type": "code",
   "execution_count": null,
   "metadata": {},
   "outputs": [],
   "source": []
  },
  {
   "cell_type": "code",
   "execution_count": null,
   "metadata": {},
   "outputs": [],
   "source": []
  }
 ],
 "metadata": {
  "kernelspec": {
   "display_name": "Python 3",
   "language": "python",
   "name": "python3"
  },
  "language_info": {
   "codemirror_mode": {
    "name": "ipython",
    "version": 3
   },
   "file_extension": ".py",
   "mimetype": "text/x-python",
   "name": "python",
   "nbconvert_exporter": "python",
   "pygments_lexer": "ipython3",
   "version": "3.7.3"
  },
  "toc": {
   "base_numbering": 1,
   "nav_menu": {},
   "number_sections": true,
   "sideBar": true,
   "skip_h1_title": false,
   "title_cell": "Table of Contents",
   "title_sidebar": "Contents",
   "toc_cell": false,
   "toc_position": {
    "height": "calc(100% - 180px)",
    "left": "10px",
    "top": "150px",
    "width": "512px"
   },
   "toc_section_display": true,
   "toc_window_display": true
  }
 },
 "nbformat": 4,
 "nbformat_minor": 4
}
